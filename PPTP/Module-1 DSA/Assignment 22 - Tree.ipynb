{
 "cells": [
  {
   "attachments": {},
   "cell_type": "markdown",
   "metadata": {},
   "source": [
    "### Assignment 22 - Tree Solutions"
   ]
  },
  {
   "attachments": {},
   "cell_type": "markdown",
   "metadata": {},
   "source": [
    "Given a Binary Tree (Bt), convert it to a Doubly Linked List(DLL). The left and right pointers in nodes are to be used as previous and next pointers respectively in converted DLL. The order of nodes in DLL must be the same as in Inorder for the given Binary Tree. The first node of Inorder traversal (leftmost node in BT) must be the head node of the DLL."
   ]
  },
  {
   "cell_type": "code",
   "execution_count": 5,
   "metadata": {},
   "outputs": [
    {
     "name": "stdout",
     "output_type": "stream",
     "text": [
      "Doubly Linked List:\n",
      "1 2 3 4 5 "
     ]
    }
   ],
   "source": [
    "class Node:\n",
    "    def __init__(self, data):\n",
    "        self.data = data\n",
    "        self.left = None\n",
    "        self.right = None\n",
    "\n",
    "def convert_to_dll(root):\n",
    "    if root is None:\n",
    "        return None\n",
    "\n",
    "    # Convert the left subtree to DLL\n",
    "    left_dll_head = convert_to_dll(root.left)\n",
    "\n",
    "    # Find the rightmost node of the left subtree (DLL)\n",
    "    rightmost = left_dll_head\n",
    "    if rightmost is not None:\n",
    "        while rightmost.right is not None:\n",
    "            rightmost = rightmost.right\n",
    "\n",
    "    # Make the current node the next of the rightmost node\n",
    "    if rightmost is not None:\n",
    "        rightmost.right = root\n",
    "        root.left = rightmost\n",
    "\n",
    "    # Convert the right subtree to DLL\n",
    "    right_dll_head = convert_to_dll(root.right)\n",
    "\n",
    "    # Make the previous of the root the leftmost node of the right subtree (DLL)\n",
    "    if right_dll_head is not None:\n",
    "        right_dll_head.left = root\n",
    "        root.right = right_dll_head\n",
    "\n",
    "    # Return the head of the DLL\n",
    "    return left_dll_head if left_dll_head is not None else root\n",
    "\n",
    "def print_dll_head(head):\n",
    "    if head is None:\n",
    "        return\n",
    "\n",
    "    current = head\n",
    "    while current is not None:\n",
    "        print(current.data, end=\" \")\n",
    "        current = current.right\n",
    "\n",
    "# Example usage:\n",
    "# Create a binary tree\n",
    "root = Node(4)\n",
    "root.left = Node(2)\n",
    "root.left.left = Node(1)\n",
    "root.left.right = Node(3)\n",
    "root.right = Node(5)\n",
    "\n",
    "# Convert the binary tree to DLL\n",
    "dll_head = convert_to_dll(root)\n",
    "\n",
    "# Print the DLL in inorder traversal order\n",
    "print(\"Doubly Linked List:\")\n",
    "print_dll_head(dll_head)"
   ]
  },
  {
   "attachments": {},
   "cell_type": "markdown",
   "metadata": {},
   "source": [
    "Question-2\n",
    "\n",
    "A Given a binary tree, the task is to flip the binary tree towards the right direction that is clockwise. See the below examples to see the transformation.\n",
    "\n",
    "In the flip operation, the leftmost node becomes the root of the flipped tree and its parent becomes its right child and the right sibling becomes its left child and the same should be done for all left most nodes recursively."
   ]
  },
  {
   "cell_type": "code",
   "execution_count": 6,
   "metadata": {},
   "outputs": [
    {
     "name": "stdout",
     "output_type": "stream",
     "text": [
      "Original Binary Tree:\n",
      "4 2 5 1 3 \n",
      "Flipped Binary Tree:\n",
      "3 1 5 2 4 "
     ]
    }
   ],
   "source": [
    "class Node:\n",
    "    def __init__(self, data):\n",
    "        self.data = data\n",
    "        self.left = None\n",
    "        self.right = None\n",
    "\n",
    "def flip_binary_tree(root):\n",
    "    # Base case: if the root is None or it is a leaf node\n",
    "    if root is None or (root.left is None and root.right is None):\n",
    "        return root\n",
    "\n",
    "    # Recursively flip the left and right subtrees\n",
    "    flipped_left = flip_binary_tree(root.left)\n",
    "    flipped_right = flip_binary_tree(root.right)\n",
    "\n",
    "    # Swap the left and right child pointers\n",
    "    root.left = flipped_right\n",
    "    root.right = flipped_left\n",
    "\n",
    "    return root\n",
    "\n",
    "def inorder_traversal(root):\n",
    "    if root is None:\n",
    "        return\n",
    "\n",
    "    inorder_traversal(root.left)\n",
    "    print(root.data, end=\" \")\n",
    "    inorder_traversal(root.right)\n",
    "\n",
    "# Example usage:\n",
    "# Create a binary tree\n",
    "root = Node(1)\n",
    "root.left = Node(2)\n",
    "root.left.left = Node(4)\n",
    "root.left.right = Node(5)\n",
    "root.right = Node(3)\n",
    "\n",
    "# Print the original binary tree\n",
    "print(\"Original Binary Tree:\")\n",
    "inorder_traversal(root)\n",
    "\n",
    "# Flip the binary tree\n",
    "flipped_root = flip_binary_tree(root)\n",
    "\n",
    "# Print the flipped binary tree\n",
    "print(\"\\nFlipped Binary Tree:\")\n",
    "inorder_traversal(flipped_root)\n"
   ]
  },
  {
   "attachments": {},
   "cell_type": "markdown",
   "metadata": {},
   "source": [
    "Question-3:\n",
    "\n",
    "Given a binary tree, print all its root-to-leaf paths without using recursion. For example, consider the following Binary Tree.\n",
    "\n",
    "Input:\n",
    "\n",
    "        6\n",
    "     /    \\\n",
    "    3      5\n",
    "  /   \\     \\\n",
    " 2     5     4\n",
    "     /   \\\n",
    "    7     4"
   ]
  },
  {
   "attachments": {},
   "cell_type": "markdown",
   "metadata": {},
   "source": []
  },
  {
   "cell_type": "code",
   "execution_count": 7,
   "metadata": {},
   "outputs": [
    {
     "name": "stdout",
     "output_type": "stream",
     "text": [
      "Root-to-Leaf Paths:\n",
      "Path: 6->3->2\n",
      "Path: 6->3->5->7\n",
      "Path: 6->3->5->4\n",
      "Path: 6->5->4\n"
     ]
    }
   ],
   "source": [
    "class Node:\n",
    "    def __init__(self, data):\n",
    "        self.data = data\n",
    "        self.left = None\n",
    "        self.right = None\n",
    "\n",
    "def print_root_to_leaf_paths(root):\n",
    "    if root is None:\n",
    "        return\n",
    "\n",
    "    stack = [(root, str(root.data))]  # Initialize stack with the root node and its path\n",
    "\n",
    "    while stack:\n",
    "        node, path = stack.pop()\n",
    "\n",
    "        # If the current node is a leaf, print the path\n",
    "        if node.left is None and node.right is None:\n",
    "            print(\"Path:\", path)\n",
    "\n",
    "        # If there is a right child, push it to the stack with the updated path\n",
    "        if node.right is not None:\n",
    "            stack.append((node.right, path + \"->\" + str(node.right.data)))\n",
    "\n",
    "        # If there is a left child, push it to the stack with the updated path\n",
    "        if node.left is not None:\n",
    "            stack.append((node.left, path + \"->\" + str(node.left.data)))\n",
    "\n",
    "# Example usage:\n",
    "# Create a binary tree\n",
    "root = Node(6)\n",
    "root.left = Node(3)\n",
    "root.left.left = Node(2)\n",
    "root.left.right = Node(5)\n",
    "root.left.right.left = Node(7)\n",
    "root.left.right.right = Node(4)\n",
    "root.right = Node(5)\n",
    "root.right.right = Node(4)\n",
    "\n",
    "# Print all root-to-leaf paths\n",
    "print(\"Root-to-Leaf Paths:\")\n",
    "print_root_to_leaf_paths(root)"
   ]
  },
  {
   "attachments": {},
   "cell_type": "markdown",
   "metadata": {},
   "source": [
    "Question-4:\n",
    "\n",
    "Given Preorder, Inorder and Postorder traversals of some tree. Write a program to check if they all are of the same tree.\n",
    "\n",
    "**Examples:**\n",
    "\n",
    "Input : \n",
    "\n",
    "        Inorder -> 4 2 5 1 3\n",
    "        Preorder -> 1 2 4 5 3\n",
    "        Postorder -> 4 5 2 3 1"
   ]
  },
  {
   "cell_type": "code",
   "execution_count": 8,
   "metadata": {},
   "outputs": [
    {
     "name": "stdout",
     "output_type": "stream",
     "text": [
      "The given traversals represent the same binary tree.\n"
     ]
    }
   ],
   "source": [
    "def check_same_tree(preorder, inorder, postorder):\n",
    "    # Base case: if any of the traversals is empty, return True\n",
    "    if len(preorder) == 0 or len(inorder) == 0 or len(postorder) == 0:\n",
    "        return True\n",
    "\n",
    "    # Check if the first element of the preorder is the same as the last element of the postorder\n",
    "    if preorder[0] != postorder[-1]:\n",
    "        return False\n",
    "\n",
    "    # Find the root element in the inorder traversal\n",
    "    root = preorder[0]\n",
    "    root_index = inorder.index(root)\n",
    "\n",
    "    # Recursively check the left and right subtrees\n",
    "    left_inorder = inorder[:root_index]\n",
    "    right_inorder = inorder[root_index + 1:]\n",
    "\n",
    "    left_preorder = preorder[1:1 + len(left_inorder)]\n",
    "    right_preorder = preorder[1 + len(left_inorder):]\n",
    "\n",
    "    left_postorder = postorder[:len(left_inorder)]\n",
    "    right_postorder = postorder[len(left_inorder):-1]\n",
    "\n",
    "    # Check if the left and right subtrees are the same tree\n",
    "    return check_same_tree(left_preorder, left_inorder, left_postorder) and \\\n",
    "           check_same_tree(right_preorder, right_inorder, right_postorder)\n",
    "\n",
    "# Example usage:\n",
    "inorder = [4, 2, 5, 1, 3]\n",
    "preorder = [1, 2, 4, 5, 3]\n",
    "postorder = [4, 5, 2, 3, 1]\n",
    "\n",
    "if check_same_tree(preorder, inorder, postorder):\n",
    "    print(\"The given traversals represent the same binary tree.\")\n",
    "else:\n",
    "    print(\"The given traversals do not represent the same binary tree.\")"
   ]
  }
 ],
 "metadata": {
  "kernelspec": {
   "display_name": "Python 3",
   "language": "python",
   "name": "python3"
  },
  "language_info": {
   "codemirror_mode": {
    "name": "ipython",
    "version": 3
   },
   "file_extension": ".py",
   "mimetype": "text/x-python",
   "name": "python",
   "nbconvert_exporter": "python",
   "pygments_lexer": "ipython3",
   "version": "3.9.10"
  },
  "orig_nbformat": 4
 },
 "nbformat": 4,
 "nbformat_minor": 2
}
