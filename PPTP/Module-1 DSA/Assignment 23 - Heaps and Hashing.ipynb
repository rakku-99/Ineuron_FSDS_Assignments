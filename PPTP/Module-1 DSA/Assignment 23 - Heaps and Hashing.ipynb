{
 "cells": [
  {
   "attachments": {},
   "cell_type": "markdown",
   "metadata": {},
   "source": [
    "### Assignment 23 - Heaps and Hashing Solutions"
   ]
  },
  {
   "attachments": {},
   "cell_type": "markdown",
   "metadata": {},
   "source": [
    "Question-1:\n",
    "\n",
    "Given preorder of a binary tree, calculate its **[depth(or height)](https://www.geeksforgeeks.org/write-a-c-program-to-find-the-maximum-depth-or-height-of-a-tree/)** [starting from depth 0]. The preorder is given as a string with two possible characters.\n",
    "\n",
    "1. ‘l’ denotes the leaf\n",
    "2. ‘n’ denotes internal node\n",
    "\n",
    "The given tree can be seen as a full binary tree where every node has 0 or two children. The two children of a node can ‘n’ or ‘l’ or mix of both."
   ]
  },
  {
   "cell_type": "code",
   "execution_count": 2,
   "metadata": {},
   "outputs": [
    {
     "name": "stdout",
     "output_type": "stream",
     "text": [
      "Depth of the binary tree: 0\n"
     ]
    }
   ],
   "source": [
    "def calculate_depth(preorder):\n",
    "    stack = []\n",
    "    depth = 0\n",
    "\n",
    "    for char in preorder:\n",
    "        if char == 'n':\n",
    "            # 'n' denotes an internal node\n",
    "            stack.append(char)\n",
    "            depth += 1\n",
    "        elif char == 'l':\n",
    "            # 'l' denotes a leaf node\n",
    "            while stack and stack[-1] == 'l':\n",
    "                # Pop leaf nodes from the stack and reduce the depth\n",
    "                stack.pop()\n",
    "                depth -= 1\n",
    "\n",
    "            if stack and stack[-1] == 'n':\n",
    "                # If the top of the stack is an internal node, replace it with a leaf node\n",
    "                stack[-1] = 'l'\n",
    "            else:\n",
    "                # If the stack is empty or the top is already a leaf node, push a new leaf node to the stack\n",
    "                stack.append('l')\n",
    "\n",
    "    return depth\n",
    "\n",
    "# Read the preorder traversal as a string\n",
    "preorder = input(\"Enter the preorder traversal: \")\n",
    "\n",
    "# Calculate and print the depth of the binary tree\n",
    "depth = calculate_depth(preorder)\n",
    "print(\"Depth of the binary tree:\", depth)"
   ]
  },
  {
   "attachments": {},
   "cell_type": "markdown",
   "metadata": {},
   "source": [
    "Question-2:\n",
    "\n",
    "Given a Binary tree, the task is to print the **left view** of the Binary Tree. The left view of a Binary Tree is a set of leftmost nodes for every level."
   ]
  },
  {
   "cell_type": "code",
   "execution_count": 3,
   "metadata": {},
   "outputs": [
    {
     "name": "stdout",
     "output_type": "stream",
     "text": [
      "Left View of the Binary Tree:\n",
      "1 2 4 "
     ]
    }
   ],
   "source": [
    "from collections import deque\n",
    "\n",
    "class Node:\n",
    "    def __init__(self, data):\n",
    "        self.data = data\n",
    "        self.left = None\n",
    "        self.right = None\n",
    "\n",
    "def print_left_view(root):\n",
    "    if root is None:\n",
    "        return\n",
    "\n",
    "    queue = deque()\n",
    "    queue.append(root)\n",
    "\n",
    "    while queue:\n",
    "        # Get the number of nodes at the current level\n",
    "        level_size = len(queue)\n",
    "\n",
    "        # Traverse all the nodes at the current level\n",
    "        for i in range(level_size):\n",
    "            node = queue.popleft()\n",
    "\n",
    "            # Print the leftmost node at the current level\n",
    "            if i == 0:\n",
    "                print(node.data, end=\" \")\n",
    "\n",
    "            # Add the left and right child of the current node to the queue\n",
    "            if node.left:\n",
    "                queue.append(node.left)\n",
    "            if node.right:\n",
    "                queue.append(node.right)\n",
    "\n",
    "# Example usage:\n",
    "# Create a binary tree\n",
    "root = Node(1)\n",
    "root.left = Node(2)\n",
    "root.left.left = Node(4)\n",
    "root.left.right = Node(5)\n",
    "root.right = Node(3)\n",
    "root.right.right = Node(6)\n",
    "\n",
    "# Print the left view of the binary tree\n",
    "print(\"Left View of the Binary Tree:\")\n",
    "print_left_view(root)"
   ]
  },
  {
   "attachments": {},
   "cell_type": "markdown",
   "metadata": {},
   "source": [
    "Question-3:\n",
    "\n",
    "Given a Binary Tree, print the Right view of it.\n",
    "\n",
    "The right view of a Binary Tree is a set of nodes visible when the tree is visited from the Right side."
   ]
  },
  {
   "cell_type": "code",
   "execution_count": 4,
   "metadata": {},
   "outputs": [
    {
     "name": "stdout",
     "output_type": "stream",
     "text": [
      "Right View of the Binary Tree:\n",
      "1 3 5 "
     ]
    }
   ],
   "source": [
    "from collections import deque\n",
    "\n",
    "class Node:\n",
    "    def __init__(self, data):\n",
    "        self.data = data\n",
    "        self.left = None\n",
    "        self.right = None\n",
    "\n",
    "def print_right_view(root):\n",
    "    if root is None:\n",
    "        return\n",
    "\n",
    "    queue = deque()\n",
    "    queue.append(root)\n",
    "\n",
    "    while queue:\n",
    "        # Get the number of nodes at the current level\n",
    "        level_size = len(queue)\n",
    "\n",
    "        # Traverse all the nodes at the current level\n",
    "        for i in range(level_size):\n",
    "            node = queue.popleft()\n",
    "\n",
    "            # Print the rightmost node at the current level\n",
    "            if i == level_size - 1:\n",
    "                print(node.data, end=\" \")\n",
    "\n",
    "            # Add the left and right child of the current node to the queue\n",
    "            if node.left:\n",
    "                queue.append(node.left)\n",
    "            if node.right:\n",
    "                queue.append(node.right)\n",
    "\n",
    "# Example usage:\n",
    "# Create a binary tree\n",
    "root = Node(1)\n",
    "root.left = Node(2)\n",
    "root.left.right = Node(4)\n",
    "root.right = Node(3)\n",
    "root.right.right = Node(5)\n",
    "\n",
    "# Print the right view of the binary tree\n",
    "print(\"Right View of the Binary Tree:\")\n",
    "print_right_view(root)"
   ]
  },
  {
   "attachments": {},
   "cell_type": "markdown",
   "metadata": {},
   "source": [
    "Question-4:\n",
    "\n",
    "Given a Binary Tree, The task is to print the **bottom view** from left to right. A node **x** is there in output if x is the bottommost node at its horizontal distance. The horizontal distance of the left child of a node x is equal to a horizontal distance of x minus 1, and that of a right child is the horizontal distance of x plus."
   ]
  },
  {
   "cell_type": "code",
   "execution_count": 5,
   "metadata": {},
   "outputs": [
    {
     "name": "stdout",
     "output_type": "stream",
     "text": [
      "Bottom View of the Binary Tree:\n",
      "4 2 6 3 7 "
     ]
    }
   ],
   "source": [
    "from collections import deque\n",
    "\n",
    "class Node:\n",
    "    def __init__(self, data):\n",
    "        self.data = data\n",
    "        self.left = None\n",
    "        self.right = None\n",
    "        self.horizontal_distance = 0\n",
    "\n",
    "def print_bottom_view(root):\n",
    "    if root is None:\n",
    "        return\n",
    "\n",
    "    # Dictionary to store the horizontal distance of each node\n",
    "    horizontal_distance_map = {}\n",
    "\n",
    "    # Queue for level-order traversal\n",
    "    queue = deque()\n",
    "    queue.append(root)\n",
    "\n",
    "    while queue:\n",
    "        node = queue.popleft()\n",
    "        horizontal_distance = node.horizontal_distance\n",
    "\n",
    "        # Update the horizontal distance of the node in the map\n",
    "        horizontal_distance_map[horizontal_distance] = node.data\n",
    "\n",
    "        # Enqueue the left and right child of the current node\n",
    "        if node.left:\n",
    "            node.left.horizontal_distance = horizontal_distance - 1\n",
    "            queue.append(node.left)\n",
    "\n",
    "        if node.right:\n",
    "            node.right.horizontal_distance = horizontal_distance + 1\n",
    "            queue.append(node.right)\n",
    "\n",
    "    # Print the nodes in the bottom view from left to right\n",
    "    for distance in sorted(horizontal_distance_map):\n",
    "        print(horizontal_distance_map[distance], end=\" \")\n",
    "\n",
    "# Example usage:\n",
    "# Create a binary tree\n",
    "root = Node(1)\n",
    "root.left = Node(2)\n",
    "root.left.left = Node(4)\n",
    "root.left.right = Node(5)\n",
    "root.right = Node(3)\n",
    "root.right.left = Node(6)\n",
    "root.right.right = Node(7)\n",
    "\n",
    "# Print the bottom view of the binary tree\n",
    "print(\"Bottom View of the Binary Tree:\")\n",
    "print_bottom_view(root)"
   ]
  }
 ],
 "metadata": {
  "kernelspec": {
   "display_name": "Python 3",
   "language": "python",
   "name": "python3"
  },
  "language_info": {
   "codemirror_mode": {
    "name": "ipython",
    "version": 3
   },
   "file_extension": ".py",
   "mimetype": "text/x-python",
   "name": "python",
   "nbconvert_exporter": "python",
   "pygments_lexer": "ipython3",
   "version": "3.9.10"
  },
  "orig_nbformat": 4
 },
 "nbformat": 4,
 "nbformat_minor": 2
}
