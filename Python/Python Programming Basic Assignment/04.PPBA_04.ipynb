{
 "cells": [
  {
   "cell_type": "markdown",
   "metadata": {},
   "source": [
    "# Python Programming Basic Assignment 4"
   ]
  },
  {
   "cell_type": "markdown",
   "metadata": {},
   "source": [
    "#### 1.Write a Python Program to find the factorial of a number ?"
   ]
  },
  {
   "cell_type": "code",
   "execution_count": 1,
   "metadata": {},
   "outputs": [
    {
     "name": "stdout",
     "output_type": "stream",
     "text": [
      "Please enter a number to find the factorial : 6\n",
      "\n",
      "The Factorial of 6 is :  720\n"
     ]
    }
   ],
   "source": [
    "# To enter a number-\n",
    "X = int(input(\"Please enter a number to find the factorial : \"))\n",
    "print()\n",
    "\n",
    "# considering a variable for looping\n",
    "Y = 1\n",
    "\n",
    "# Decremental loop starting from entered number X upto 1\n",
    "for i in range (X, 0,-1):\n",
    "    # Multiplying each lower number with X to get factorial\n",
    "    Y = Y * i\n",
    "    \n",
    "print('The Factorial of', X, 'is : ', Y)"
   ]
  },
  {
   "cell_type": "markdown",
   "metadata": {},
   "source": [
    "#### 2.Write a Python Program to display the multiplication table ?"
   ]
  },
  {
   "cell_type": "code",
   "execution_count": 2,
   "metadata": {},
   "outputs": [
    {
     "name": "stdout",
     "output_type": "stream",
     "text": [
      "Enter a number to display its multiplication table : 23\n",
      "23 X 1 = 23\n",
      "23 X 2 = 46\n",
      "23 X 3 = 69\n",
      "23 X 4 = 92\n",
      "23 X 5 = 115\n",
      "23 X 6 = 138\n",
      "23 X 7 = 161\n",
      "23 X 8 = 184\n",
      "23 X 9 = 207\n",
      "23 X 10 = 230\n"
     ]
    }
   ],
   "source": [
    "# To enter a number-\n",
    "n = int(input('Enter a number to display its multiplication table : '))\n",
    "\n",
    "# Loop to generate multiplication table of n  with 1 to 10\n",
    "for i in range(1, 11):\n",
    "    # display multiplication table of n\n",
    "    print(f'{n} X {i} = {n*i}')"
   ]
  },
  {
   "cell_type": "markdown",
   "metadata": {},
   "source": [
    "#### 3.Write a Python Program to print the fibonacci sequence ?"
   ]
  },
  {
   "cell_type": "code",
   "execution_count": 3,
   "metadata": {},
   "outputs": [
    {
     "name": "stdout",
     "output_type": "stream",
     "text": [
      "Enter the required length of Fibonacci Sequence : 23\n",
      "[0, 1, 1, 2, 3, 5, 8, 13, 21, 34, 55, 89, 144, 233, 377, 610, 987, 1597, 2584, 4181, 6765, 10946, 17711]\n"
     ]
    }
   ],
   "source": [
    "# Fibonacci Sequence - \n",
    "# The next number is found by adding up the two numbers before it\n",
    "\n",
    "# To enter a number-\n",
    "n_fs = int (input(\"Enter the required length of Fibonacci Sequence : \"))\n",
    "# list containing the 2 initial sequence numbers\n",
    "l=[0, 1]\n",
    "# loop for range (2 to entered number -1)\n",
    "for i in range (2, n_fs):\n",
    "    # final list containing the Fibonacci Sequence\n",
    "    l.append(l[i-1]+l[i-2])\n",
    "# display the Fibonacci Sequence list\n",
    "print (l)"
   ]
  },
  {
   "cell_type": "markdown",
   "metadata": {},
   "source": [
    "#### 4.Write a Python Program to check Armstrong number ?"
   ]
  },
  {
   "cell_type": "code",
   "execution_count": 4,
   "metadata": {},
   "outputs": [
    {
     "name": "stdout",
     "output_type": "stream",
     "text": [
      "Enter a number check Armstrong Number : 371\n",
      "371 is an Armstrong Number\n"
     ]
    }
   ],
   "source": [
    "# Armstrong Number -\n",
    "# Sum of its own digits raised to the power number of digits gives the number itself\n",
    "\n",
    "# Define a function\n",
    "def CheckArmsrtoNum():\n",
    "    # To enter a number-\n",
    "    AsN = input('Enter a number check Armstrong Number : ')\n",
    "    # starting sum variable from 0\n",
    "    sum = 0\n",
    "    # loop to sum the cubes of AsN digits\n",
    "    for char in range(len(AsN)):\n",
    "        sum = sum + pow(int(AsN[char]),3)\n",
    "    # check sum of cubes of AsN digits =  AsN then Armstrong Number\n",
    "    if sum == int(AsN):\n",
    "        print(f'{AsN} is an Armstrong Number')\n",
    "    else:\n",
    "        print(f'{AsN} is not an Armstrong Number')\n",
    "# run function   \n",
    "CheckArmsrtoNum()"
   ]
  },
  {
   "cell_type": "markdown",
   "metadata": {},
   "source": [
    "#### 5.Write a Python Program to Find Armstrong number in an interval ?"
   ]
  },
  {
   "cell_type": "code",
   "execution_count": 5,
   "metadata": {},
   "outputs": [
    {
     "name": "stdout",
     "output_type": "stream",
     "text": [
      "Enter the Start of the Interval: 111\n",
      "Enter the End of the Interval: 2000\n",
      "The Armstrong numbers between 111 and 2000 are [153, 370, 371, 407]\n"
     ]
    }
   ],
   "source": [
    "# Define a function\n",
    "def ArmsrtoNum(AsN, lists):\n",
    "       \n",
    "    # starting sum variable from 0\n",
    "    sum = 0\n",
    "    # loop to sum the cubes of AsN digits\n",
    "    for i in range(len(AsN)):\n",
    "        sum = sum + pow(int(AsN[i]),3)\n",
    "    #check sum of cubes of AsN digits =  AsN then Armstrong Number\n",
    "    if sum == int(AsN):\n",
    "        # append Armstrong Numbers in the the list\n",
    "        lists.append(int(AsN))\n",
    "\n",
    "# To enter a an interval of numbers-\n",
    "S_I = int(input('Enter the Start of the Interval: '))\n",
    "E_I = int(input('Enter the End of the Interval: '))\n",
    "Armstrong_Number_list = []\n",
    "\n",
    "if S_I > E_I:\n",
    "    print(\"Start Interval Cannot be Greater than End Interval\")\n",
    "else:\n",
    "    # Required Armstrong Numbers in the the interval\n",
    "    for y in range(S_I,E_I+1):\n",
    "        # Return - Armstrong Numbers in the the list\n",
    "        ArmsrtoNum(str(y),Armstrong_Number_list)\n",
    "    print(f'The Armstrong numbers between {S_I} and {E_I} are {Armstrong_Number_list}')"
   ]
  },
  {
   "cell_type": "markdown",
   "metadata": {},
   "source": [
    "#### 6.Write a Python Program to sum of natural numbers ?"
   ]
  },
  {
   "cell_type": "code",
   "execution_count": 6,
   "metadata": {},
   "outputs": [
    {
     "name": "stdout",
     "output_type": "stream",
     "text": [
      "Please enter a number to find sum of natural numbers: 45\n",
      "Sum of 45 natural numbers is 1035\n"
     ]
    }
   ],
   "source": [
    "# To enter a number-\n",
    "n = int(input('Please enter a number to find sum of natural numbers: '))\n",
    "\n",
    "# sum of natural numbers\n",
    "sum_N = n*((n+1)/2)\n",
    "\n",
    "# Display the sum of natural numbers\n",
    "print('Sum of', n, 'natural numbers is', \"%d\" %sum_N)\n"
   ]
  }
 ],
 "metadata": {
  "kernelspec": {
   "display_name": "Python 3 (ipykernel)",
   "language": "python",
   "name": "python3"
  },
  "language_info": {
   "codemirror_mode": {
    "name": "ipython",
    "version": 3
   },
   "file_extension": ".py",
   "mimetype": "text/x-python",
   "name": "python",
   "nbconvert_exporter": "python",
   "pygments_lexer": "ipython3",
   "version": "3.9.7"
  }
 },
 "nbformat": 4,
 "nbformat_minor": 4
}
