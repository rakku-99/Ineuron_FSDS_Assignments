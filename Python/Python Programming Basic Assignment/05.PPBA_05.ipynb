{
 "cells": [
  {
   "cell_type": "markdown",
   "id": "9e1733f2",
   "metadata": {},
   "source": [
    "# Python Programming Basic Assignment - 5"
   ]
  },
  {
   "cell_type": "markdown",
   "id": "901748b2",
   "metadata": {},
   "source": [
    "#### 1. Write a Python Program to find LCM ?"
   ]
  },
  {
   "cell_type": "code",
   "execution_count": 1,
   "id": "91140999",
   "metadata": {},
   "outputs": [
    {
     "name": "stdout",
     "output_type": "stream",
     "text": [
      "Please enter the 1st number : 8\n",
      "Please enter the 2nd number : 9\n",
      "The LCM of 8 & 9 is 72\n"
     ]
    }
   ],
   "source": [
    "# To enter numbers-\n",
    "Num1 = int(input(\"Please enter the 1st number : \"))\n",
    "Num2 = int(input(\"Please enter the 2nd number : \"))\n",
    "\n",
    "# Define a function to to find LCM\n",
    "def lcm(Num1,Num2):\n",
    "    # A variable defined - Larger_Number\n",
    "    Larger_Number = Num1 if Num1 > Num2 else Num2\n",
    "    \n",
    "    # While loop to check if Larger_Number is LCM\n",
    "    while True:\n",
    "        # Larger_Number is divisible by Num1 & Num2 then it is the LCM.\n",
    "        if((Larger_Number%Num1 == 0) and (Larger_Number%Num2 == 0)):\n",
    "            LCM = Larger_Number\n",
    "            break\n",
    "        else:\n",
    "            # Else While loop would check for next Larger_Number\n",
    "            Larger_Number +=1\n",
    "    # Display the final Output \n",
    "    print(\"The LCM of\",Num1,\"&\", Num2,\"is\", LCM)\n",
    "lcm(Num1, Num2)"
   ]
  },
  {
   "cell_type": "markdown",
   "id": "5998fa74",
   "metadata": {},
   "source": [
    "#### 2. Write a Python Program to find HCF ?"
   ]
  },
  {
   "cell_type": "code",
   "execution_count": 2,
   "id": "352d08d9",
   "metadata": {},
   "outputs": [
    {
     "name": "stdout",
     "output_type": "stream",
     "text": [
      "Please enter the 1st number : 8\n",
      "Please enter the 2nd number : 5\n",
      "The HCF of 8 & 5 is 1\n"
     ]
    }
   ],
   "source": [
    "# To enter numbers-\n",
    "N1 = int(input(\"Please enter the 1st number : \"))\n",
    "N2 = int(input(\"Please enter the 2nd number : \"))\n",
    "\n",
    "#  Define a function to to find LCM\n",
    "def hcf(N1,N2):\n",
    "    # A variable defined - Smaller_Number\n",
    "    Smaller_Number = N1 if N1 > N2 else N2\n",
    "    \n",
    "    # for loop to check find Smaller_Number is HCF in range(1 to Smaller_Number)\n",
    "    for i in range(1,Smaller_Number+1):\n",
    "        # Smaller_Number is divisible by N1 & N2 then it is the HCF.\n",
    "        if((N1%i == 0) and (N2%i == 0)):\n",
    "            HCF = i\n",
    "    # Display the final Output\n",
    "    print(\"The HCF of\",N1,\"&\", N2,\"is\", HCF)\n",
    "hcf(N1, N2)"
   ]
  },
  {
   "cell_type": "markdown",
   "id": "f29f8214",
   "metadata": {},
   "source": [
    "#### 3. Write a Python Program to Convert Decimal to Binary, Octal and Hexadecimal ?"
   ]
  },
  {
   "cell_type": "code",
   "execution_count": 3,
   "id": "53212645",
   "metadata": {},
   "outputs": [
    {
     "name": "stdout",
     "output_type": "stream",
     "text": [
      "Please enter a Decimal Number: 78\n",
      "Binary Number      is 0b1001110\n",
      "Octal Number       is 0o116\n",
      "Hexadecimal Number is 0x4e\n"
     ]
    }
   ],
   "source": [
    "# To enter number-\n",
    "Decimal_Number = int(input('Please enter a Decimal Number: '))\n",
    "\n",
    "# Binary \n",
    "binary = bin(Decimal_Number)\n",
    "# Octal\n",
    "octal = oct(Decimal_Number)\n",
    "# Hexadecimal\n",
    "hexadecimal = hex(Decimal_Number)\n",
    "\n",
    "# Display Number\n",
    "print(f'Binary Number      is {binary}')\n",
    "print(f'Octal Number       is {octal}')\n",
    "print(f'Hexadecimal Number is {hexadecimal}')"
   ]
  },
  {
   "cell_type": "markdown",
   "id": "1a4ed424",
   "metadata": {},
   "source": [
    "#### 4. Write a Python Program to Find the ASCII value of  a Character ?"
   ]
  },
  {
   "cell_type": "code",
   "execution_count": 4,
   "id": "8173265f",
   "metadata": {},
   "outputs": [
    {
     "name": "stdout",
     "output_type": "stream",
     "text": [
      "Please enter a Character: kit\n",
      "ord() expected a character, but string of length 3 found\n",
      "Please enter only one character\n",
      "Please enter a Character: k\n",
      "ASCII Character of k is 107\n"
     ]
    }
   ],
   "source": [
    "# While loop to get single character input\n",
    "while True:\n",
    "    try:\n",
    "    # to enter a Character\n",
    "        char = input('Please enter a Character: ')\n",
    "    # ASCII Code\n",
    "        ASCII = ord(char)\n",
    "    # Display the final Output\n",
    "        print('ASCII Character of', char, 'is', ASCII)\n",
    "        break\n",
    "    except Exception as e:\n",
    "        print(e)\n",
    "        print(\"Please enter only one character\")\n",
    "        continue"
   ]
  },
  {
   "cell_type": "markdown",
   "id": "e9f467f1",
   "metadata": {},
   "source": [
    "#### 5. Write a Python Program to Make a Simple Calculator with 4 Basic Mathematical operations ?"
   ]
  },
  {
   "cell_type": "code",
   "execution_count": 6,
   "id": "e63efbb1",
   "metadata": {},
   "outputs": [
    {
     "name": "stdout",
     "output_type": "stream",
     "text": [
      "This is a simple Calculator\n",
      "\n",
      "For Addition     :  +\n",
      "For Subtraction  :  -\n",
      "For Multiplicaton:  *\n",
      "For Division     :  /\n",
      "To End           :  0\n",
      "\n",
      "Please choose a mathematical operation: i\n",
      "Please enter a valid operator\n",
      "This is a simple Calculator\n",
      "\n",
      "For Addition     :  +\n",
      "For Subtraction  :  -\n",
      "For Multiplicaton:  *\n",
      "For Division     :  /\n",
      "To End           :  0\n",
      "\n",
      "Please choose a mathematical operation: /\n",
      "\n",
      "Enter 1st Number: 9\n",
      "Enter 2nd Number: o\n",
      "invalid literal for int() with base 10: 'o'\n",
      "This is a simple Calculator\n",
      "\n",
      "For Addition     :  +\n",
      "For Subtraction  :  -\n",
      "For Multiplicaton:  *\n",
      "For Division     :  /\n",
      "To End           :  0\n",
      "\n",
      "Please choose a mathematical operation: /\n",
      "\n",
      "Enter 1st Number: 9\n",
      "Enter 2nd Number: 0\n",
      "division by zero\n",
      "This is a simple Calculator\n",
      "\n",
      "For Addition     :  +\n",
      "For Subtraction  :  -\n",
      "For Multiplicaton:  *\n",
      "For Division     :  /\n",
      "To End           :  0\n",
      "\n",
      "Please choose a mathematical operation: /\n",
      "\n",
      "Enter 1st Number: 9\n",
      "Enter 2nd Number: 3\n",
      "Output of 9 / 3 = 3.0\n",
      "This is a simple Calculator\n",
      "\n",
      "For Addition     :  +\n",
      "For Subtraction  :  -\n",
      "For Multiplicaton:  *\n",
      "For Division     :  /\n",
      "To End           :  0\n",
      "\n",
      "Please choose a mathematical operation: 0\n",
      "Program Stopped successfully\n"
     ]
    }
   ],
   "source": [
    "while True:\n",
    "    print(\"This is a simple Calculator\")\n",
    "    print(\"\\nFor Addition     :  +\")\n",
    "    print(\"For Subtraction  :  -\")\n",
    "    print(\"For Multiplicaton:  *\")\n",
    "    print(\"For Division     :  /\")\n",
    "    print(\"To End           :  0\")\n",
    "    try:\n",
    "     \n",
    "        math_opr = input(\"\\nPlease choose a mathematical operation: \")\n",
    "        \n",
    "        if math_opr == '0':\n",
    "            print(\"Program Stopped successfully\")\n",
    "            break\n",
    "        elif math_opr not in ['+','-','*','/']:\n",
    "            print(\"Please enter a valid operator\")\n",
    "#        else:\n",
    "#            num_1 = int(input('\\nEnter 1st Number: '))\n",
    "#            num_2 = int(input('Enter 2nd Number: '))\n",
    "#     try:\n",
    "        else:\n",
    "            num_1 = int(input('\\nEnter 1st Number: '))\n",
    "            num_2 = int(input('Enter 2nd Number: '))\n",
    "        \n",
    "            if math_opr == '+':\n",
    "                print('Output of', num_1, '+', num_2, '=', (num_1 + num_2))\n",
    "            elif math_opr == '-':\n",
    "                print('Output of', num_1, '-', num_2, '=', (num_1 - num_2))\n",
    "            elif math_opr == '*':\n",
    "                print('Output of', num_1, 'x', num_2, '=', (num_1 * num_2))\n",
    "            elif math_opr == '/':\n",
    "                print('Output of', num_1, '/', num_2, '=', (num_1 / num_2))\n",
    "                                              \n",
    "    except Exception as e:\n",
    "        print(e)\n",
    "        continue"
   ]
  }
 ],
 "metadata": {
  "kernelspec": {
   "display_name": "Python 3 (ipykernel)",
   "language": "python",
   "name": "python3"
  },
  "language_info": {
   "codemirror_mode": {
    "name": "ipython",
    "version": 3
   },
   "file_extension": ".py",
   "mimetype": "text/x-python",
   "name": "python",
   "nbconvert_exporter": "python",
   "pygments_lexer": "ipython3",
   "version": "3.9.7"
  }
 },
 "nbformat": 4,
 "nbformat_minor": 5
}
