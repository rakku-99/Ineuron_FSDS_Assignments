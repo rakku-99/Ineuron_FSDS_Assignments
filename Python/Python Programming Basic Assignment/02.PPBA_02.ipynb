{
 "cells": [
  {
   "cell_type": "markdown",
   "metadata": {},
   "source": [
    "# Python Programming Basic Assignment 2"
   ]
  },
  {
   "cell_type": "markdown",
   "metadata": {},
   "source": [
    "#### 1.Write a Python program to convert Kilometers to Miles ?"
   ]
  },
  {
   "cell_type": "code",
   "execution_count": 1,
   "metadata": {},
   "outputs": [
    {
     "name": "stdout",
     "output_type": "stream",
     "text": [
      "For 33 km Distance, \n",
      " Distance in Miles =  20.505243 Miles\n"
     ]
    }
   ],
   "source": [
    "# Distance in Kilometre \n",
    "km = 33\n",
    "\n",
    "#CONVERSION FACTOR\n",
    "conv_fac = 0.621371\n",
    "\n",
    "# Converting Distance in Miles\n",
    "miles = km*conv_fac\n",
    "\n",
    "print(\"For 33 km Distance, \\n Distance in Miles = \", miles, \"Miles\")"
   ]
  },
  {
   "cell_type": "markdown",
   "metadata": {},
   "source": [
    "#### 2.Write a Python program to convert Celsius to Farenheit ?"
   ]
  },
  {
   "cell_type": "code",
   "execution_count": 2,
   "metadata": {},
   "outputs": [
    {
     "name": "stdout",
     "output_type": "stream",
     "text": [
      "For 37 deg C Temperature, \n",
      " Temperature in Farenheit =  98.6 deg F\n"
     ]
    }
   ],
   "source": [
    "# Temperature in Celsius \n",
    "c = 37\n",
    "\n",
    "# Converting Temperature in Farenheit\n",
    "f = (9*c/5)+32\n",
    "\n",
    "print(\"For 37 deg C Temperature, \\n Temperature in Farenheit = \", f, \"deg F\")"
   ]
  },
  {
   "cell_type": "markdown",
   "metadata": {},
   "source": [
    "#### 3.Write a Python program to display calender ?"
   ]
  },
  {
   "cell_type": "code",
   "execution_count": 3,
   "metadata": {},
   "outputs": [
    {
     "name": "stdout",
     "output_type": "stream",
     "text": [
      "Here is the calender of the month September of the year 2022-\n",
      "\n",
      "    September 2022\n",
      "Mo Tu We Th Fr Sa Su\n",
      "          1  2  3  4\n",
      " 5  6  7  8  9 10 11\n",
      "12 13 14 15 16 17 18\n",
      "19 20 21 22 23 24 25\n",
      "26 27 28 29 30\n",
      "\n",
      "Here is the calender of the year 2022-\n",
      "\n",
      "                                   2022\n",
      "\n",
      "      January                   February                   March\n",
      "Mo Tu We Th Fr Sa Su      Mo Tu We Th Fr Sa Su      Mo Tu We Th Fr Sa Su\n",
      "                1  2          1  2  3  4  5  6          1  2  3  4  5  6\n",
      " 3  4  5  6  7  8  9       7  8  9 10 11 12 13       7  8  9 10 11 12 13\n",
      "10 11 12 13 14 15 16      14 15 16 17 18 19 20      14 15 16 17 18 19 20\n",
      "17 18 19 20 21 22 23      21 22 23 24 25 26 27      21 22 23 24 25 26 27\n",
      "24 25 26 27 28 29 30      28                        28 29 30 31\n",
      "31\n",
      "\n",
      "       April                      May                       June\n",
      "Mo Tu We Th Fr Sa Su      Mo Tu We Th Fr Sa Su      Mo Tu We Th Fr Sa Su\n",
      "             1  2  3                         1             1  2  3  4  5\n",
      " 4  5  6  7  8  9 10       2  3  4  5  6  7  8       6  7  8  9 10 11 12\n",
      "11 12 13 14 15 16 17       9 10 11 12 13 14 15      13 14 15 16 17 18 19\n",
      "18 19 20 21 22 23 24      16 17 18 19 20 21 22      20 21 22 23 24 25 26\n",
      "25 26 27 28 29 30         23 24 25 26 27 28 29      27 28 29 30\n",
      "                          30 31\n",
      "\n",
      "        July                     August                  September\n",
      "Mo Tu We Th Fr Sa Su      Mo Tu We Th Fr Sa Su      Mo Tu We Th Fr Sa Su\n",
      "             1  2  3       1  2  3  4  5  6  7                1  2  3  4\n",
      " 4  5  6  7  8  9 10       8  9 10 11 12 13 14       5  6  7  8  9 10 11\n",
      "11 12 13 14 15 16 17      15 16 17 18 19 20 21      12 13 14 15 16 17 18\n",
      "18 19 20 21 22 23 24      22 23 24 25 26 27 28      19 20 21 22 23 24 25\n",
      "25 26 27 28 29 30 31      29 30 31                  26 27 28 29 30\n",
      "\n",
      "      October                   November                  December\n",
      "Mo Tu We Th Fr Sa Su      Mo Tu We Th Fr Sa Su      Mo Tu We Th Fr Sa Su\n",
      "                1  2          1  2  3  4  5  6                1  2  3  4\n",
      " 3  4  5  6  7  8  9       7  8  9 10 11 12 13       5  6  7  8  9 10 11\n",
      "10 11 12 13 14 15 16      14 15 16 17 18 19 20      12 13 14 15 16 17 18\n",
      "17 18 19 20 21 22 23      21 22 23 24 25 26 27      19 20 21 22 23 24 25\n",
      "24 25 26 27 28 29 30      28 29 30                  26 27 28 29 30 31\n",
      "31\n",
      "\n"
     ]
    }
   ],
   "source": [
    "# importing calendar module\n",
    "import calendar\n",
    "\n",
    "# Year\n",
    "y = 2022\n",
    "\n",
    "# Month of the Year\n",
    "m = 9\n",
    "\n",
    "# Display the calendar\n",
    "print(\"Here is the calender of the month September of the year 2022-\\n\\n\",calendar.month(y,m))\n",
    "print(\"Here is the calender of the year 2022-\\n\\n\",calendar.calendar(y))"
   ]
  },
  {
   "cell_type": "markdown",
   "metadata": {},
   "source": [
    "#### 4.Write a Python program to solve quadartic equation ?"
   ]
  },
  {
   "cell_type": "code",
   "execution_count": 4,
   "metadata": {},
   "outputs": [
    {
     "name": "stdout",
     "output_type": "stream",
     "text": [
      "Coefficienct of x^2, a = 2\n",
      "Coefficienct of x, b = 10\n",
      "Coefficienct of constant, c = 12\n",
      "\n",
      "For quadratic equaion  2 x^2 +  10  x +  12 \n",
      "\n",
      "Roots are Real and different\n",
      ": (-2+0j) and (-3+0j)\n"
     ]
    }
   ],
   "source": [
    "# importing math Library\n",
    "import cmath\n",
    "# importing cmath for complex number operations\n",
    "import math\n",
    "\n",
    "a = int(input('Coefficienct of x^2, a = '))\n",
    "b = int(input('Coefficienct of x, b = '))\n",
    "c = int(input('Coefficienct of constant, c = '))\n",
    "\n",
    "# Discriminant of a quadratic equation ax^2+bx+c=0\n",
    "d = (b**2-4*a*c)\n",
    "\n",
    "#Solution of a quadratic equation ax^2+bx+c=0\n",
    "root1 = ((-b)+(cmath.sqrt(d))) / (2*a)\n",
    "root2 = ((-b)-(cmath.sqrt(d))) / (2*a)\n",
    "\n",
    "print('\\nFor quadratic equaion ',a,'x^2 + ',b,' x + ',c ,'\\n')\n",
    "\n",
    "# Checking the conditions of nature of the roots wrt discriminant\n",
    "# 1. for eqaul roots-\n",
    "if d == 0:\n",
    "    r1 = -b/2*a\n",
    "    r2 = -b/2*a\n",
    "    print(\"Roots are Real\")\n",
    "    \n",
    "# 2. for Real and different roots\n",
    "elif d > 0:\n",
    "    r1 = (-b-math.sqrt(d))/(2 * a)\n",
    "    r2 = (-b+math.sqrt(d))/(2 * a)\n",
    "    print(\"Roots are Real and different\")\n",
    "    \n",
    "# 3. for Imaginary roots\n",
    "else:\n",
    "    r1 = (-b-cmath.sqrt(d))/(2 * a)\n",
    "    r2 = (-b+cmath.sqrt(d))/(2 * a)\n",
    "    print(\"Roots are Imaginary\")\n",
    "    \n",
    "print(':', root1,'and', root2)"
   ]
  },
  {
   "cell_type": "markdown",
   "metadata": {},
   "source": [
    "#### 5.Write a Python program to swap two variables without temp variable ?"
   ]
  },
  {
   "cell_type": "code",
   "execution_count": 5,
   "metadata": {},
   "outputs": [
    {
     "name": "stdout",
     "output_type": "stream",
     "text": [
      "Before Swapping- \n",
      " v1 = 5 & v2 =  3\n",
      "\n",
      "After Swapping- \n",
      " v1 = 3 & v2 =  5\n"
     ]
    }
   ],
   "source": [
    "v1 = 5  # Variable 1\n",
    "v2 = 3  # Variable 2\n",
    "\n",
    "print('Before Swapping-','\\n v1 =', v1, '& v2 = ',v2)\n",
    "\n",
    "# Assigning v1 as sum of v1 & v2\n",
    "v1 = v1 + v2\n",
    "v2 = v1 - v2\n",
    "v1 = v1 - v2\n",
    "\n",
    "print('\\nAfter Swapping-','\\n v1 =', v1, '& v2 = ',v2)"
   ]
  },
  {
   "cell_type": "code",
   "execution_count": null,
   "metadata": {},
   "outputs": [],
   "source": []
  }
 ],
 "metadata": {
  "kernelspec": {
   "display_name": "Python 3 (ipykernel)",
   "language": "python",
   "name": "python3"
  },
  "language_info": {
   "codemirror_mode": {
    "name": "ipython",
    "version": 3
   },
   "file_extension": ".py",
   "mimetype": "text/x-python",
   "name": "python",
   "nbconvert_exporter": "python",
   "pygments_lexer": "ipython3",
   "version": "3.9.7"
  }
 },
 "nbformat": 4,
 "nbformat_minor": 4
}
