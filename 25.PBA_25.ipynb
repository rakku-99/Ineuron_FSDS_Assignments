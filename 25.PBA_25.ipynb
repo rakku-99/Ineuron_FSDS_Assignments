{
 "cells": [
  {
   "cell_type": "markdown",
   "id": "7f9b8597",
   "metadata": {},
   "source": [
    "# Python Basic Assignment 25"
   ]
  },
  {
   "cell_type": "markdown",
   "id": "5aee2c7e",
   "metadata": {},
   "source": [
    "#### 1) . What is the difference between enclosing a list comprehension in square brackets and parentheses?\n",
    "**Ans:** Enclosing a list comprehension in square brackets returns a `list`.\n",
    "But enclosing a list comprehension in parentheses returns a `generator` object."
   ]
  },
  {
   "cell_type": "code",
   "execution_count": 1,
   "id": "b4745353-bbeb-46d7-bcab-9f81ab1914b5",
   "metadata": {},
   "outputs": [
    {
     "name": "stdout",
     "output_type": "stream",
     "text": [
      "['tomato', 'curry', 'salad', 'kiwi', 'sauce'] <class 'list'>\n"
     ]
    }
   ],
   "source": [
    "food = [\"tomato\", \"curry\", \"salad\", \"kiwi\", \"sauce\"]\n",
    "list1 = [i for i in food] # list comprehension in square brackets\n",
    "print(list1, type(list1))"
   ]
  },
  {
   "cell_type": "code",
   "execution_count": 2,
   "id": "9444349e",
   "metadata": {},
   "outputs": [
    {
     "name": "stdout",
     "output_type": "stream",
     "text": [
      "<generator object <genexpr> at 0x000002D08CE1CF20> <class 'generator'>\n"
     ]
    }
   ],
   "source": [
    "gen = (i for i in food) # list comprehension in parentheses\n",
    "print(gen, type(gen))"
   ]
  },
  {
   "cell_type": "markdown",
   "id": "43ead631",
   "metadata": {},
   "source": [
    "#### 2) What is the relationship between generators and iterators?\n",
    "**Ans:** An object which contains some values and it is used to iterate over iterable objects like list, tuples, sets, etc are called `iterator`.\n",
    "\n",
    "Keywords used for `iterators` are- \n",
    "1. `iter()` is used to create an iterator containing an iterable object.\n",
    "2. `next()` is used to call the next element in the iterable object.\n",
    "\n",
    "`Generators` are an another way of creating iterators.\n",
    "Generators are implemented using a function.\n",
    "Keyword used for `Generators` is  `yield` statement. \n",
    "\n",
    "Here, the yield function return a sequence of data in an iterable format where we need to iterate over the sequence to use the data as they won’t store the entire sequence in the memory."
   ]
  },
  {
   "cell_type": "code",
   "execution_count": 3,
   "id": "57d7daf0",
   "metadata": {},
   "outputs": [
    {
     "name": "stdout",
     "output_type": "stream",
     "text": [
      "<class 'list_iterator'>\n",
      "This\n",
      "is\n",
      "my\n",
      "first\n",
      "iterator\n",
      "<list_iterator object at 0x000002D08CEAC370>\n"
     ]
    }
   ],
   "source": [
    "# Example of an Iterartor\n",
    "iter_1 = iter(['This', 'is', 'my', 'first', 'iterator'])\n",
    "print(type(iter_1)) # <class 'list_iterator'>\n",
    "\n",
    "print(next(iter_1)) \n",
    "print(next(iter_1))\n",
    "print(next(iter_1))\n",
    "print(next(iter_1))\n",
    "print(next(iter_1))\n",
    "# After the iterable object is completed, to use them again we have reassign them to the same object.\n",
    "print(iter_1) "
   ]
  },
  {
   "cell_type": "code",
   "execution_count": 4,
   "id": "475ad9eb-18b8-4e3a-a246-86c341de25ad",
   "metadata": {
    "tags": []
   },
   "outputs": [
    {
     "name": "stdout",
     "output_type": "stream",
     "text": [
      "Square Root of 0 is 0.0\n",
      "Square Root of 1 is 1.0\n",
      "Square Root of 2 is 1.4142135623730951\n",
      "Square Root of 3 is 1.7320508075688772\n",
      "<class 'generator'>\n"
     ]
    }
   ],
   "source": [
    "# Example of a Generator\n",
    "def square_root(x):\n",
    "    for i in range(x+1):\n",
    "        yield i**0.5\n",
    "\n",
    "sq_root = square_root(4)\n",
    "print(\"Square Root of 0 is\", next(sq_root))\n",
    "print(\"Square Root of 1 is\", next(sq_root))\n",
    "print(\"Square Root of 2 is\", next(sq_root))\n",
    "print(\"Square Root of 3 is\", next(sq_root))\n",
    "\n",
    "print(type(square_root(4)))"
   ]
  },
  {
   "cell_type": "markdown",
   "id": "c4bd6bf0",
   "metadata": {},
   "source": [
    "#### 3) What are the signs that a function is a generator function?\n",
    "**Ans:** If a function uses a `yield` statement instead of a `return` statement, then it is a `generator function`. \n",
    "It may contain other yield or return statements. A normal function can return a `dict/list/string/tuple/NoneType` ... etc, But a generator function returns a iterable object called `generator`."
   ]
  },
  {
   "cell_type": "code",
   "execution_count": 5,
   "id": "bd886c9a",
   "metadata": {},
   "outputs": [
    {
     "name": "stdout",
     "output_type": "stream",
     "text": [
      "monday\n",
      "<class 'str'>\n"
     ]
    }
   ],
   "source": [
    "# Example of a function returns *string* which is not a generator function\n",
    "def add(a,b):\n",
    "    return a+b\n",
    "print(add(\"mon\",\"day\"))\n",
    "print(type(add(\"mon\",\"day\")))"
   ]
  },
  {
   "cell_type": "markdown",
   "id": "b35dd5fe",
   "metadata": {},
   "source": [
    "#### 4) What is the purpose of a yield statement?\n",
    "**Ans:** The yield statement provides a value to the code looping over the generator and pauses execution of the generator function, but retains enough state to enable function to resume where it is left off. When resumed, the function continues execution immediately after the last yield run. This allows its code to produce a series of values over time. It does not compute all at once and send them back like a list."
   ]
  },
  {
   "cell_type": "code",
   "execution_count": 6,
   "id": "b053eb7d",
   "metadata": {},
   "outputs": [
    {
     "name": "stdout",
     "output_type": "stream",
     "text": [
      "Square Root of 4 is 2.0\n"
     ]
    }
   ],
   "source": [
    "print(\"Square Root of 4 is\", next(sq_root))\n",
    "# When resumed, the function continues execution immediately after the last yield run and \n",
    "# returned the last element of the generator function from code in In 4."
   ]
  },
  {
   "cell_type": "markdown",
   "id": "d2182986",
   "metadata": {
    "tags": []
   },
   "source": [
    "#### 5) What is the relationship between map calls and list comprehensions? Make a comparison and contrast between the two ?\n",
    "**Ans:** The main differences between map calls and list comprehensiosn are:\n",
    "1. List comprehension is more concise and easier to read as compared to map calls.\n",
    "2. List comprehension allows `filtering`. In map, we have no such facility.  There is no alternate for it in map.\n",
    "3. List comprehension are used when a list of results is required as final output. But map only returns a `map object`. it needs to be explicitly coverted to desired datatype.\n",
    "4. List comprehension is faster than map when we need to evaluate expressions that are too long or complicated to express.\n",
    "5. Map is faster in case of calling an already defined function on a set of values."
   ]
  },
  {
   "cell_type": "code",
   "execution_count": 7,
   "id": "7907a7ec",
   "metadata": {},
   "outputs": [
    {
     "data": {
      "text/plain": [
       "[1, 3, 5, 7, 9]"
      ]
     },
     "execution_count": 7,
     "metadata": {},
     "output_type": "execute_result"
    }
   ],
   "source": [
    "# filter- to print all even numbers in range of 50- \n",
    "[n for n in range(10) if n%2 != 0]"
   ]
  },
  {
   "cell_type": "code",
   "execution_count": 8,
   "id": "fc92403d",
   "metadata": {},
   "outputs": [
    {
     "name": "stdout",
     "output_type": "stream",
     "text": [
      "<map object at 0x000002D08CF0F1C0>\n",
      "[6, 132, 16.5, 18, -21]\n"
     ]
    }
   ],
   "source": [
    "# function to triple the number\n",
    "def triple(n) :\n",
    "    return n * 3\n",
    "          \n",
    "list3 = [2, 44, 5.5, 6, -7]\n",
    "  \n",
    "# creates a map object for 'triple' for each element of 1ist2\n",
    "x = map(triple, list3) \n",
    "print(x) \n",
    "\n",
    "print(list(x))"
   ]
  },
  {
   "cell_type": "code",
   "execution_count": null,
   "id": "7a604ffd",
   "metadata": {},
   "outputs": [],
   "source": []
  }
 ],
 "metadata": {
  "kernelspec": {
   "display_name": "Python 3 (ipykernel)",
   "language": "python",
   "name": "python3"
  },
  "language_info": {
   "codemirror_mode": {
    "name": "ipython",
    "version": 3
   },
   "file_extension": ".py",
   "mimetype": "text/x-python",
   "name": "python",
   "nbconvert_exporter": "python",
   "pygments_lexer": "ipython3",
   "version": "3.9.7"
  }
 },
 "nbformat": 4,
 "nbformat_minor": 5
}
