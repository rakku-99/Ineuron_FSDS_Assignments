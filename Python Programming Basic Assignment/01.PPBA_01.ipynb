{
 "cells": [
  {
   "cell_type": "markdown",
   "metadata": {},
   "source": [
    "# Python Programing Basic Assignment 1"
   ]
  },
  {
   "cell_type": "markdown",
   "metadata": {},
   "source": [
    "#### 1.Write a Python program to print 'Hello Python' ?"
   ]
  },
  {
   "cell_type": "code",
   "execution_count": 1,
   "metadata": {},
   "outputs": [
    {
     "name": "stdout",
     "output_type": "stream",
     "text": [
      "Hello Python\n"
     ]
    }
   ],
   "source": [
    "print('Hello Python')"
   ]
  },
  {
   "cell_type": "markdown",
   "metadata": {},
   "source": [
    "#### 2.Write a Python program to do arithmetic operations addition and division ?"
   ]
  },
  {
   "cell_type": "code",
   "execution_count": 2,
   "metadata": {},
   "outputs": [
    {
     "name": "stdout",
     "output_type": "stream",
     "text": [
      "Addition of a & b = 50\n",
      "Division of a from b = 0.6666666666666666\n"
     ]
    }
   ],
   "source": [
    "a = 20 # variable a\n",
    "b = 30 # variable b\n",
    "\n",
    "## Addition of a & b\n",
    "add = a + b \n",
    "## Division of a from b\n",
    "div = a/b\n",
    "\n",
    "print(\"Addition of a & b =\", add)\n",
    "print(\"Division of a from b =\",div)"
   ]
  },
  {
   "cell_type": "markdown",
   "metadata": {},
   "source": [
    "#### 3.Write a Python program to find the area of a triangle ?"
   ]
  },
  {
   "cell_type": "code",
   "execution_count": null,
   "metadata": {},
   "outputs": [],
   "source": [
    "b = int(input('Enter Base of Triangle = ')) # Base\n",
    "h = int(input('Enter Height of Triangle = ')) # Height\n",
    "\n",
    "def Area_of_Triangle(h, b):\n",
    "    return 0.5*b*h\n",
    "\n",
    "print('\\nArea of Triangle = ', Area_of_Triangle(h,b))"
   ]
  },
  {
   "cell_type": "markdown",
   "metadata": {},
   "source": [
    "#### 4.Write a Python program to swap two variables ?"
   ]
  },
  {
   "cell_type": "code",
   "execution_count": null,
   "metadata": {},
   "outputs": [],
   "source": [
    "v1 = 500 # Variable 1\n",
    "v2 = 40 # Variable 2\n",
    "\n",
    "print('Before swapping -> \\n Variable 1 = ', v1, 'and Variable 2 = ', v2)\n",
    "t = v1\n",
    "v1=v2\n",
    "v2=t\n",
    "\n",
    "print('After swapping -> \\n Variable 1 = ', v1, 'and Variable 2 = ', v2)"
   ]
  },
  {
   "cell_type": "markdown",
   "metadata": {},
   "source": [
    "#### 5.Write a Python program to generate a random number ?"
   ]
  },
  {
   "cell_type": "code",
   "execution_count": null,
   "metadata": {},
   "outputs": [],
   "source": [
    "import random\n",
    "\n",
    "# Generating random numbers without arguments    \n",
    "print(random.random())\n",
    "\n",
    "# Generating random numbers with arguments    \n",
    "print(random.randint(1, 100000))"
   ]
  },
  {
   "cell_type": "code",
   "execution_count": null,
   "metadata": {},
   "outputs": [],
   "source": []
  }
 ],
 "metadata": {
  "kernelspec": {
   "display_name": "Python 3 (ipykernel)",
   "language": "python",
   "name": "python3"
  },
  "language_info": {
   "codemirror_mode": {
    "name": "ipython",
    "version": 3
   },
   "file_extension": ".py",
   "mimetype": "text/x-python",
   "name": "python",
   "nbconvert_exporter": "python",
   "pygments_lexer": "ipython3",
   "version": "3.9.7"
  }
 },
 "nbformat": 4,
 "nbformat_minor": 4
}
